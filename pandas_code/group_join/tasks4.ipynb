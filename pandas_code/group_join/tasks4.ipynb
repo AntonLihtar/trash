{
 "cells": [
  {
   "cell_type": "code",
   "id": "initial_id",
   "metadata": {
    "collapsed": true,
    "ExecuteTime": {
     "end_time": "2025-10-25T21:19:21.797954Z",
     "start_time": "2025-10-25T21:19:21.789694Z"
    }
   },
   "source": [
    "import pandas as pd\n",
    "\n",
    "sales_clients = pd.DataFrame([\n",
    "    ['North', 'C001', 120, 'Electronics'],\n",
    "    ['North', 'C002', 200, 'Furniture'],\n",
    "    ['North', 'C001', 150, 'Electronics'],\n",
    "    ['North', 'C003', 300, 'Clothing'],\n",
    "    ['South', 'C004', 250, 'Electronics'],\n",
    "    ['South', 'C005', 100, 'Furniture'],\n",
    "    ['South', 'C004', 150, 'Electronics'],\n",
    "    ['South', 'C004', 160, 'Electronics'],\n",
    "    ['South', 'C006', 200, 'Clothing'],\n",
    "    ['East', 'C007', 400, 'Electronics'],\n",
    "    ['East', 'C008', 300, 'Clothing'],\n",
    "    ['East', 'C009', 150, 'Furniture'],\n",
    "    ['East', 'C007', 200, 'Electronics'],\n",
    "    ['West', 'C010', 100, 'Clothing'],\n",
    "    ['West', 'C011', 150, 'Electronics'],\n",
    "    ['West', 'C012', 200, 'Furniture'],\n",
    "    ['West', 'C010', 50, 'Clothing'],\n",
    "    ['West', 'C011', 100, 'Electronics'],\n",
    "    ['West', 'C013', 250, 'Furniture'],\n",
    "    ['West', 'C014', 300, 'Clothing'],\n",
    "    ['West', 'C015', 180, 'Electronics'],\n",
    "], columns=['region', 'client_id', 'order_sum', 'product_category'])\n",
    "\n",
    "print(sales_clients)\n",
    "\n"
   ],
   "outputs": [
    {
     "name": "stdout",
     "output_type": "stream",
     "text": [
      "   region client_id  order_sum product_category\n",
      "0   North      C001        120      Electronics\n",
      "1   North      C002        200        Furniture\n",
      "2   North      C001        150      Electronics\n",
      "3   North      C003        300         Clothing\n",
      "4   South      C004        250      Electronics\n",
      "5   South      C005        100        Furniture\n",
      "6   South      C004        150      Electronics\n",
      "7   South      C004        160      Electronics\n",
      "8   South      C006        200         Clothing\n",
      "9    East      C007        400      Electronics\n",
      "10   East      C008        300         Clothing\n",
      "11   East      C009        150        Furniture\n",
      "12   East      C007        200      Electronics\n",
      "13   West      C010        100         Clothing\n",
      "14   West      C011        150      Electronics\n",
      "15   West      C012        200        Furniture\n",
      "16   West      C010         50         Clothing\n",
      "17   West      C011        100      Electronics\n",
      "18   West      C013        250        Furniture\n",
      "19   West      C014        300         Clothing\n",
      "20   West      C015        180      Electronics\n"
     ]
    }
   ],
   "execution_count": 8
  },
  {
   "metadata": {
    "ExecuteTime": {
     "end_time": "2025-10-26T05:51:15.155054Z",
     "start_time": "2025-10-26T05:51:15.141542Z"
    }
   },
   "cell_type": "code",
   "source": [
    "# По каждому региону:\n",
    "# количество заказов,\n",
    "# сумма заказов,\n",
    "# количество уникальных клиентов.\n",
    "\n",
    "t1 = sales_clients.groupby('region').agg(\n",
    "    total_orders=('order_sum', 'count'),\n",
    "    total_sum=('order_sum', 'sum'),\n",
    "    unique_clients=('client_id', 'nunique'),\n",
    ")\n",
    "\n",
    "t1"
   ],
   "id": "9f51397b05390da8",
   "outputs": [
    {
     "data": {
      "text/plain": [
       "        total_orders  total_sum  unique_clients\n",
       "region                                         \n",
       "East               4       1050               3\n",
       "North              4        770               3\n",
       "South              5        860               3\n",
       "West               8       1330               6"
      ],
      "text/html": [
       "<div>\n",
       "<style scoped>\n",
       "    .dataframe tbody tr th:only-of-type {\n",
       "        vertical-align: middle;\n",
       "    }\n",
       "\n",
       "    .dataframe tbody tr th {\n",
       "        vertical-align: top;\n",
       "    }\n",
       "\n",
       "    .dataframe thead th {\n",
       "        text-align: right;\n",
       "    }\n",
       "</style>\n",
       "<table border=\"1\" class=\"dataframe\">\n",
       "  <thead>\n",
       "    <tr style=\"text-align: right;\">\n",
       "      <th></th>\n",
       "      <th>total_orders</th>\n",
       "      <th>total_sum</th>\n",
       "      <th>unique_clients</th>\n",
       "    </tr>\n",
       "    <tr>\n",
       "      <th>region</th>\n",
       "      <th></th>\n",
       "      <th></th>\n",
       "      <th></th>\n",
       "    </tr>\n",
       "  </thead>\n",
       "  <tbody>\n",
       "    <tr>\n",
       "      <th>East</th>\n",
       "      <td>4</td>\n",
       "      <td>1050</td>\n",
       "      <td>3</td>\n",
       "    </tr>\n",
       "    <tr>\n",
       "      <th>North</th>\n",
       "      <td>4</td>\n",
       "      <td>770</td>\n",
       "      <td>3</td>\n",
       "    </tr>\n",
       "    <tr>\n",
       "      <th>South</th>\n",
       "      <td>5</td>\n",
       "      <td>860</td>\n",
       "      <td>3</td>\n",
       "    </tr>\n",
       "    <tr>\n",
       "      <th>West</th>\n",
       "      <td>8</td>\n",
       "      <td>1330</td>\n",
       "      <td>6</td>\n",
       "    </tr>\n",
       "  </tbody>\n",
       "</table>\n",
       "</div>"
      ]
     },
     "execution_count": 49,
     "metadata": {},
     "output_type": "execute_result"
    }
   ],
   "execution_count": 49
  },
  {
   "metadata": {
    "ExecuteTime": {
     "end_time": "2025-10-26T05:57:11.644378Z",
     "start_time": "2025-10-26T05:57:11.633424Z"
    }
   },
   "cell_type": "code",
   "source": [
    "# Вывести регионы, где в среднем на клиента приходится больше всего заказов.\n",
    "\n",
    "t1['avg_orders_per_client'] = round(t1['total_orders'] / t1['unique_clients'],2)\n",
    "t1.sort_values(by='avg_orders_per_client', inplace=True, ascending=False)\n",
    "t1\n"
   ],
   "id": "3a13b0dda5129063",
   "outputs": [
    {
     "data": {
      "text/plain": [
       "        total_orders  total_sum  unique_clients  avg_orders_per_client\n",
       "region                                                                \n",
       "South              5        860               3                   1.67\n",
       "East               4       1050               3                   1.33\n",
       "North              4        770               3                   1.33\n",
       "West               8       1330               6                   1.33"
      ],
      "text/html": [
       "<div>\n",
       "<style scoped>\n",
       "    .dataframe tbody tr th:only-of-type {\n",
       "        vertical-align: middle;\n",
       "    }\n",
       "\n",
       "    .dataframe tbody tr th {\n",
       "        vertical-align: top;\n",
       "    }\n",
       "\n",
       "    .dataframe thead th {\n",
       "        text-align: right;\n",
       "    }\n",
       "</style>\n",
       "<table border=\"1\" class=\"dataframe\">\n",
       "  <thead>\n",
       "    <tr style=\"text-align: right;\">\n",
       "      <th></th>\n",
       "      <th>total_orders</th>\n",
       "      <th>total_sum</th>\n",
       "      <th>unique_clients</th>\n",
       "      <th>avg_orders_per_client</th>\n",
       "    </tr>\n",
       "    <tr>\n",
       "      <th>region</th>\n",
       "      <th></th>\n",
       "      <th></th>\n",
       "      <th></th>\n",
       "      <th></th>\n",
       "    </tr>\n",
       "  </thead>\n",
       "  <tbody>\n",
       "    <tr>\n",
       "      <th>South</th>\n",
       "      <td>5</td>\n",
       "      <td>860</td>\n",
       "      <td>3</td>\n",
       "      <td>1.67</td>\n",
       "    </tr>\n",
       "    <tr>\n",
       "      <th>East</th>\n",
       "      <td>4</td>\n",
       "      <td>1050</td>\n",
       "      <td>3</td>\n",
       "      <td>1.33</td>\n",
       "    </tr>\n",
       "    <tr>\n",
       "      <th>North</th>\n",
       "      <td>4</td>\n",
       "      <td>770</td>\n",
       "      <td>3</td>\n",
       "      <td>1.33</td>\n",
       "    </tr>\n",
       "    <tr>\n",
       "      <th>West</th>\n",
       "      <td>8</td>\n",
       "      <td>1330</td>\n",
       "      <td>6</td>\n",
       "      <td>1.33</td>\n",
       "    </tr>\n",
       "  </tbody>\n",
       "</table>\n",
       "</div>"
      ]
     },
     "execution_count": 57,
     "metadata": {},
     "output_type": "execute_result"
    }
   ],
   "execution_count": 57
  }
 ],
 "metadata": {
  "kernelspec": {
   "display_name": "Python 3",
   "language": "python",
   "name": "python3"
  },
  "language_info": {
   "codemirror_mode": {
    "name": "ipython",
    "version": 2
   },
   "file_extension": ".py",
   "mimetype": "text/x-python",
   "name": "python",
   "nbconvert_exporter": "python",
   "pygments_lexer": "ipython2",
   "version": "2.7.6"
  }
 },
 "nbformat": 4,
 "nbformat_minor": 5
}
